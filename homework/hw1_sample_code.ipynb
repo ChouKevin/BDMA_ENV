{
 "cells": [
  {
   "cell_type": "code",
   "execution_count": 1,
   "metadata": {},
   "outputs": [],
   "source": [
    "import os\n",
    "import time\n",
    "import pyspark\n",
    "import numpy as np"
   ]
  },
  {
   "cell_type": "code",
   "execution_count": 2,
   "metadata": {},
   "outputs": [],
   "source": [
    "FILE_NAME = 'household_power_consumption.txt'"
   ]
  },
  {
   "cell_type": "code",
   "execution_count": 3,
   "metadata": {},
   "outputs": [],
   "source": [
    "sc = pyspark.SparkContext(appName='hw1_code', master='spark://spark-master:7077')\n",
    "text_file = sc.textFile(os.path.join('../', 'dataset', FILE_NAME))"
   ]
  },
  {
   "cell_type": "code",
   "execution_count": 4,
   "metadata": {},
   "outputs": [
    {
     "data": {
      "text/plain": [
       "([2, 3, 4, 5], 2)"
      ]
     },
     "execution_count": 4,
     "metadata": {},
     "output_type": "execute_result"
    }
   ],
   "source": [
    "take_size = 3\n",
    "attr_idx = [2, 3, 4, 5]\n",
    "bc_attr_idx = sc.broadcast(attr_idx)\n",
    "bc_attr_idx.value, sc.defaultParallelism"
   ]
  },
  {
   "cell_type": "code",
   "execution_count": 5,
   "metadata": {},
   "outputs": [
    {
     "data": {
      "text/plain": [
       "['Date;Time;Global_active_power;Global_reactive_power;Voltage;Global_intensity;Sub_metering_1;Sub_metering_2;Sub_metering_3',\n",
       " '16/12/2006;17:24:00;4.216;0.418;234.840;18.400;0.000;1.000;17.000',\n",
       " '16/12/2006;17:25:00;5.360;0.436;233.630;23.000;0.000;1.000;16.000']"
      ]
     },
     "execution_count": 5,
     "metadata": {},
     "output_type": "execute_result"
    }
   ],
   "source": [
    "# show data\n",
    "text_file.take(take_size)"
   ]
  },
  {
   "cell_type": "code",
   "execution_count": 6,
   "metadata": {},
   "outputs": [
    {
     "data": {
      "text/plain": [
       "[(array([  3.662,   0.51 , 233.86 ,  15.8  ]),\n",
       "  array([  3.662,   0.51 , 233.86 ,  15.8  ]),\n",
       "  1),\n",
       " (array([  4.448,   0.498, 232.86 ,  19.6  ]),\n",
       "  array([  4.448,   0.498, 232.86 ,  19.6  ]),\n",
       "  1),\n",
       " (array([  5.412,   0.47 , 232.78 ,  23.2  ]),\n",
       "  array([  5.412,   0.47 , 232.78 ,  23.2  ]),\n",
       "  1)]"
      ]
     },
     "execution_count": 6,
     "metadata": {},
     "output_type": "execute_result"
    }
   ],
   "source": [
    "def trans_type(row):\n",
    "    try:\n",
    "        return np.double(row)\n",
    "    except:\n",
    "        return None\n",
    "\n",
    "def get_attrs(row_gen):\n",
    "    for row in row_gen:\n",
    "        attrs = row.split(';')\n",
    "        attrs = np.take(attrs, bc_attr_idx.value)\n",
    "        attrs = trans_type(attrs)\n",
    "        if attrs is not None:\n",
    "            yield (attrs, attrs, 1) # (current_min_value, current_max_value, count)\n",
    "\n",
    "text_file.repartition(sc.defaultParallelism).mapPartitions(get_attrs).take(take_size)"
   ]
  },
  {
   "cell_type": "markdown",
   "metadata": {},
   "source": [
    "## (1) minimun, maximum, count"
   ]
  },
  {
   "cell_type": "code",
   "execution_count": 7,
   "metadata": {},
   "outputs": [
    {
     "name": "stdout",
     "output_type": "stream",
     "text": [
      "CPU times: user 28.9 ms, sys: 1.72 ms, total: 30.6 ms\n",
      "Wall time: 44.3 s\n"
     ]
    }
   ],
   "source": [
    "%%time\n",
    "def task1_reduce(a, b):\n",
    "    a_min, a_max, a_count = a\n",
    "    b_min, b_max, b_count = b\n",
    "    _min = np.nanmin([a_min, b_min], axis=0)\n",
    "    _max = np.nanmax([a_max, b_max], axis=0)\n",
    "    return _min, _max, a_count+b_count\n",
    "\n",
    "task1_result = text_file.repartition(sc.defaultParallelism).mapPartitions(get_attrs).reduce(task1_reduce)"
   ]
  },
  {
   "cell_type": "code",
   "execution_count": 8,
   "metadata": {},
   "outputs": [
    {
     "name": "stdout",
     "output_type": "stream",
     "text": [
      "['Global_active_power', 'Global_reactive_power', 'Voltage', 'Global_intensity']\n",
      "min : [7.600e-02 0.000e+00 2.232e+02 2.000e-01]\n",
      "max : [ 11.122   1.39  254.15   48.4  ]\n",
      "count : 2049280\n"
     ]
    }
   ],
   "source": [
    "print('Global_active_power;Global_reactive_power;Voltage;Global_intensity'.split(';'))\n",
    "print('min :', task1_result[0])\n",
    "print('max :', task1_result[1])\n",
    "print('count :', task1_result[2])"
   ]
  },
  {
   "cell_type": "markdown",
   "metadata": {},
   "source": [
    "## (2) mean, standard"
   ]
  },
  {
   "cell_type": "code",
   "execution_count": 9,
   "metadata": {},
   "outputs": [
    {
     "name": "stdout",
     "output_type": "stream",
     "text": [
      "CPU times: user 19.5 ms, sys: 3.29 ms, total: 22.8 ms\n",
      "Wall time: 18.6 s\n"
     ]
    }
   ],
   "source": [
    "%%time\n",
    "def get_attrs_2(row_gen):\n",
    "    for row in row_gen:\n",
    "        attrs = row.split(';')\n",
    "        attrs = np.take(attrs, bc_attr_idx.value)\n",
    "        attrs = trans_type(attrs)\n",
    "        if attrs is not None:\n",
    "            yield (attrs, 1)\n",
    "\n",
    "def add_attrs(a, b):\n",
    "    a_attrs, a_count = a\n",
    "    b_attrs, b_count = b\n",
    "    return np.sum([a_attrs, b_attrs], axis=0), a_count + b_count\n",
    "\n",
    "sum_count_pair = text_file.repartition(sc.defaultParallelism).mapPartitions(get_attrs_2).reduce(add_attrs)\n",
    "mean = sum_count_pair[0]/sum_count_pair[1]\n",
    "bc_mean = sc.broadcast(mean)"
   ]
  },
  {
   "cell_type": "code",
   "execution_count": 10,
   "metadata": {},
   "outputs": [
    {
     "name": "stdout",
     "output_type": "stream",
     "text": [
      "CPU times: user 21.7 ms, sys: 11.1 ms, total: 32.8 ms\n",
      "Wall time: 14.1 s\n"
     ]
    }
   ],
   "source": [
    "%%time\n",
    "\n",
    "def minus_mean(row_gen):\n",
    "    for row in row_gen:\n",
    "        attrs, count = row\n",
    "        attrs -= bc_mean.value\n",
    "        yield np.power(attrs, 2)\n",
    "\n",
    "\n",
    "summed = text_file.repartition(sc.defaultParallelism).mapPartitions(get_attrs_2, preservesPartitioning=True) \\\n",
    "         .mapPartitions(minus_mean, preservesPartitioning=True).sum()\n",
    "population_std = np.sqrt(summed / sum_count_pair[1])\n",
    "sample_std = np.sqrt(summed / (sum_count_pair[1] - 1))"
   ]
  },
  {
   "cell_type": "code",
   "execution_count": 11,
   "metadata": {},
   "outputs": [
    {
     "name": "stdout",
     "output_type": "stream",
     "text": [
      "['Global_active_power', 'Global_reactive_power', 'Voltage', 'Global_intensity']\n",
      "mean :  [1.09161504e+00 1.23714476e-01 2.40839858e+02 4.62775931e+00]\n",
      "std (population) :  [1.0572939  0.11272195 3.23998589 4.44439518]\n",
      "std (sample) :  [1.05729416 0.11272198 3.23998668 4.44439626]\n"
     ]
    }
   ],
   "source": [
    "print('Global_active_power;Global_reactive_power;Voltage;Global_intensity'.split(';'))\n",
    "print('mean : ', mean)\n",
    "print('std (population) : ', population_std)\n",
    "print('std (sample) : ', sample_std)"
   ]
  },
  {
   "cell_type": "markdown",
   "metadata": {},
   "source": [
    "## (3) min-max normalization"
   ]
  },
  {
   "cell_type": "code",
   "execution_count": 12,
   "metadata": {},
   "outputs": [
    {
     "name": "stdout",
     "output_type": "stream",
     "text": [
      "['Global_active_power', 'Global_reactive_power', 'Voltage', 'Global_intensity']\n"
     ]
    },
    {
     "data": {
      "text/plain": [
       "[array([0.37479631, 0.30071942, 0.37609047, 0.37759336]),\n",
       " array([0.47836321, 0.31366906, 0.33699515, 0.47302905]),\n",
       " array([0.47963064, 0.35827338, 0.32600969, 0.47302905]),\n",
       " array([0.48089806, 0.36115108, 0.34054927, 0.47302905]),\n",
       " array([0.32500453, 0.37985612, 0.40323102, 0.32365145]),\n",
       " array([0.31178707, 0.37553957, 0.3819063 , 0.30705394]),\n",
       " array([0.32826362, 0.37410072, 0.38416801, 0.32365145]),\n",
       " array([0.32808256, 0.37410072, 0.38836834, 0.32365145]),\n",
       " array([0.32518559, 0.36690647, 0.34862682, 0.32365145]),\n",
       " array([0.3246424 , 0.36690647, 0.34442649, 0.32365145]),\n",
       " array([0.39579938, 0.35827338, 0.31211632, 0.40248963]),\n",
       " array([0.48307079, 0.3381295 , 0.3095315 , 0.47717842]),\n",
       " array([0.46605106, 0.34388489, 0.31631664, 0.46058091]),\n",
       " array([0.4700344 , 0.28633094, 0.31373183, 0.46473029]),\n",
       " array([0.36013036, 0.30359712, 0.38901454, 0.36099585]),\n",
       " array([0.29947492, 0.2028777 , 0.45040388, 0.29045643]),\n",
       " array([0.28915445, 0.10935252, 0.4371567 , 0.28215768]),\n",
       " array([0.30363933, 0.11223022, 0.44781906, 0.29460581]),\n",
       " array([0.28879232, 0.        , 0.45008078, 0.28215768]),\n",
       " array([0.33061742, 0.        , 0.40840065, 0.33609959])]"
      ]
     },
     "execution_count": 12,
     "metadata": {},
     "output_type": "execute_result"
    }
   ],
   "source": [
    "bc_min = sc.broadcast(task1_result[0])\n",
    "bc_max = sc.broadcast(task1_result[1])\n",
    "\n",
    "def min_max_norm(row_gen):\n",
    "    for row in row_gen:\n",
    "        attrs, count = row\n",
    "        yield (attrs-bc_min.value)/(bc_max.value-bc_min.value)\n",
    "print('Global_active_power;Global_reactive_power;Voltage;Global_intensity'.split(';'))\n",
    "text_file.mapPartitions(get_attrs_2, preservesPartitioning=True) \\\n",
    "         .mapPartitions(min_max_norm, preservesPartitioning=True).take(20)"
   ]
  },
  {
   "cell_type": "code",
   "execution_count": 13,
   "metadata": {},
   "outputs": [
    {
     "name": "stdout",
     "output_type": "stream",
     "text": [
      "['Global_active_power', 'Global_reactive_power', 'Voltage', 'Global_intensity']\n",
      "min : [7.600e-02 0.000e+00 2.232e+02 2.000e-01]\n",
      "max : [ 11.122   1.39  254.15   48.4  ]\n",
      "mean :  [1.09161504e+00 1.23714476e-01 2.40839858e+02 4.62775931e+00]\n",
      "std (population) :  [1.0572939  0.11272195 3.23998589 4.44439518]\n",
      "std (sample) :  [1.05729416 0.11272198 3.23998668 4.44439626]\n",
      "count : 2049280\n"
     ]
    }
   ],
   "source": [
    "print('Global_active_power;Global_reactive_power;Voltage;Global_intensity'.split(';'))\n",
    "print('min :', task1_result[0])\n",
    "print('max :', task1_result[1])\n",
    "print('mean : ', mean)\n",
    "print('std (population) : ', population_std)\n",
    "print('std (sample) : ', sample_std)\n",
    "print('count :', task1_result[2])"
   ]
  },
  {
   "cell_type": "code",
   "execution_count": null,
   "metadata": {},
   "outputs": [],
   "source": []
  }
 ],
 "metadata": {
  "kernelspec": {
   "display_name": "Python 3",
   "language": "python",
   "name": "python3"
  },
  "language_info": {
   "codemirror_mode": {
    "name": "ipython",
    "version": 3
   },
   "file_extension": ".py",
   "mimetype": "text/x-python",
   "name": "python",
   "nbconvert_exporter": "python",
   "pygments_lexer": "ipython3",
   "version": "3.7.3"
  }
 },
 "nbformat": 4,
 "nbformat_minor": 4
}
